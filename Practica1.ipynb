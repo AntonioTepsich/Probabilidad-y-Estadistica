{
  "nbformat": 4,
  "nbformat_minor": 0,
  "metadata": {
    "colab": {
      "provenance": [],
      "authorship_tag": "ABX9TyMyjTbHuz3QVom3tEqvdhya",
      "include_colab_link": true
    },
    "kernelspec": {
      "name": "python3",
      "display_name": "Python 3"
    },
    "language_info": {
      "name": "python"
    }
  },
  "cells": [
    {
      "cell_type": "markdown",
      "metadata": {
        "id": "view-in-github",
        "colab_type": "text"
      },
      "source": [
        "<a href=\"https://colab.research.google.com/github/AntonioTepsich/Probabilidad-y-Estadistica/blob/main/Practica1.ipynb\" target=\"_parent\"><img src=\"https://colab.research.google.com/assets/colab-badge.svg\" alt=\"Open In Colab\"/></a>"
      ]
    },
    {
      "cell_type": "markdown",
      "source": [
        "# Ejercicio 1 # \n",
        "\n",
        "*Para n ≥ 0 entero (n = 0, 1, 2, 3, . . .) se define el factorial de n de la siguiente manera:*\n",
        "\n",
        "\n",
        "> n! = n(n − 1)(n − 2). . .(3)(2)(1) ∀n ≥ 1 y 0! = 1. \n",
        "\n",
        "*El factorial se puede definir de manera recursiva de la siguiente forma:*\n",
        "\n",
        "> (n + 1)! = (n + 1)n!\n",
        "\n",
        "**Implementarlo de las dos maneras y calcular el tiempo que tarde en cada forma para n = 25, n = 100 y n = 200.**"
      ],
      "metadata": {
        "id": "e2iz_1Qy2fKr"
      }
    },
    {
      "cell_type": "code",
      "source": [
        "import time\n",
        "def factorial(n):\n",
        "  x=1;\n",
        "\n",
        "  if(n==0):\n",
        "    return 1\n",
        "\n",
        "  for i in range(1, n+1, 1):\n",
        "    x*=i;\n",
        "  return x;\n",
        "\n",
        "def recursiveFactorial(n):\n",
        "  if(n==0):\n",
        "    return 1\n",
        "\n",
        "  return n* factorial(n-1)\n"
      ],
      "metadata": {
        "id": "tBG4xatk4Rv3"
      },
      "execution_count": 29,
      "outputs": []
    },
    {
      "cell_type": "code",
      "source": [
        "x=[25,100,200,300000]\n",
        "for i in x:\n",
        "  inicio1=time.time()\n",
        "  fact1=factorial(i)\n",
        "  fin1=time.time()\n",
        "  total1=fin1-inicio1\n",
        "  print(\"Tiempo en calcular \"+str(i)+\"!\")\n",
        "  print(\"Factorial Comun:     \"+str(total1))\n",
        "\n",
        "  inicio2=time.time()\n",
        "  fact2=recursiveFactorial(i)\n",
        "  fin2=time.time()\n",
        "  total2=fin2-inicio2\n",
        "  print(\"Factorial Recursiva: \"+str(total2)+\"\\n\")\n",
        "\n"
      ],
      "metadata": {
        "colab": {
          "base_uri": "https://localhost:8080/"
        },
        "id": "tOlt5zxb63oZ",
        "outputId": "03018dbc-265e-4a35-86b4-99c1b9925e5d"
      },
      "execution_count": 37,
      "outputs": [
        {
          "output_type": "stream",
          "name": "stdout",
          "text": [
            "Tiempo en calcular 25!\n",
            "Factorial Comun:     1.1444091796875e-05\n",
            "Factorial Recursiva: 1.2874603271484375e-05\n",
            "\n",
            "Tiempo en calcular 100!\n",
            "Factorial Comun:     2.2172927856445312e-05\n",
            "Factorial Recursiva: 2.0503997802734375e-05\n",
            "\n",
            "Tiempo en calcular 200!\n",
            "Factorial Comun:     3.814697265625e-05\n",
            "Factorial Recursiva: 4.172325134277344e-05\n",
            "\n",
            "Tiempo en calcular 300000!\n",
            "Factorial Comun:     29.018197059631348\n",
            "Factorial Recursiva: 29.72650647163391\n",
            "\n"
          ]
        }
      ]
    },
    {
      "cell_type": "markdown",
      "source": [
        "## Conclusion ##\n",
        "El Factorial de la manera comun tarda menos que la manera recursiva.\n",
        "Si bien con valores chicos no se llega a notar la diferencia, mientras mas grande son los valores, mas tiempo lleva. \n",
        "**Agregue otros valores para notar mas la diferencia.**"
      ],
      "metadata": {
        "id": "iVV1fwpXEJQs"
      }
    },
    {
      "cell_type": "markdown",
      "source": [
        "# Ejercicio 2 #\n",
        "\n",
        "**Implementar un codigo que calcule P(n, r) para todo n, r ≥ 0 entero.**"
      ],
      "metadata": {
        "id": "YaMRf4WqFasw"
      }
    },
    {
      "cell_type": "code",
      "source": [
        "def permutation(n,r):\n",
        "  num = factorial(n)\n",
        "  den = factorial(n-r)\n",
        "\n",
        "  return num/den"
      ],
      "metadata": {
        "id": "ciVkWDwDFqFv"
      },
      "execution_count": 31,
      "outputs": []
    },
    {
      "cell_type": "code",
      "source": [
        "n=5\n",
        "r=3\n",
        "p=permutation(n,r)\n",
        "print(\"P(\"+str(n)+\",\"+str(r)+\") = \"+str(p))"
      ],
      "metadata": {
        "colab": {
          "base_uri": "https://localhost:8080/"
        },
        "id": "ADhB9coYGf4h",
        "outputId": "a9818f7b-8af0-4e45-8d65-5d3399047a5e"
      },
      "execution_count": 32,
      "outputs": [
        {
          "output_type": "stream",
          "name": "stdout",
          "text": [
            "P(5,3) = 60.0\n"
          ]
        }
      ]
    }
  ]
}